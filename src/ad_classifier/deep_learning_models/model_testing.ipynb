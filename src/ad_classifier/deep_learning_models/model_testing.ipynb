{
 "cells": [
  {
   "cell_type": "markdown",
   "metadata": {},
   "source": [
    "# Imports"
   ]
  },
  {
   "cell_type": "code",
   "execution_count": null,
   "metadata": {},
   "outputs": [],
   "source": [
    "import os\n",
    "import sys\n",
    "from tensorflow.keras.preprocessing import image_dataset_from_directory\n",
    "from tensorflow import keras\n",
    "import tensorflow as tf\n",
    "from sklearn.metrics import accuracy_score, f1_score, precision_score, recall_score, confusion_matrix\n",
    "import numpy as np"
   ]
  },
  {
   "cell_type": "markdown",
   "metadata": {},
   "source": [
    "# Constants "
   ]
  },
  {
   "cell_type": "code",
   "execution_count": null,
   "metadata": {},
   "outputs": [],
   "source": [
    "AUTOTUNE = tf.data.AUTOTUNE\n",
    "\n",
    "TEST_DATASET_PATH = \"/home/white/uni_workspace/ecm3401-dissertation/data/ADNI_TEST_DATASET\"\n",
    "IMAGE_SIZE = [200, 200]"
   ]
  },
  {
   "cell_type": "markdown",
   "metadata": {},
   "source": [
    "# Model Testing Logic"
   ]
  },
  {
   "cell_type": "code",
   "execution_count": null,
   "metadata": {},
   "outputs": [],
   "source": [
    "def test_model(y_pred, y_true):\n",
    "    accuracy = accuracy_score(y_true, y_pred)\n",
    "    precision = precision_score(y_true, y_pred, average='weighted')\n",
    "    sensitivity = recall_score(y_true, y_pred, average='weighted')\n",
    "    f1 = f1_score(y_true, y_pred, average='weighted')\n",
    "\n",
    "    # Compute confusion matrix\n",
    "    conf_matrix = confusion_matrix(y_true, y_pred)\n",
    "\n",
    "    print(\"Accuracy:\", accuracy)\n",
    "    print(\"Precision:\", precision)\n",
    "    print(\"Sensitivity (Recall):\", sensitivity)\n",
    "    print(\"F1 Score:\", f1)\n",
    "    print(\"Confusion Matrix:\")\n",
    "    print(conf_matrix)\n",
    "\n",
    "\n",
    "def test_models_in_dir(directory, test_images, y_true):\n",
    "    for root, dirs, files in os.walk(directory):\n",
    "        dirs[:] = [d for d in dirs if d not in {\"OLD MODELS\"}]\n",
    "        for file in files:\n",
    "            if file.endswith(\".h5\"):\n",
    "                print(\"======================================\")\n",
    "                print(\"TESTING: \", os.path.basename(root))\n",
    "                model = keras.models.load_model(os.path.join(root, file))\n",
    "\n",
    "                y_pred = np.argmax(model.predict(test_images), axis=1)\n",
    "\n",
    "                test_model(y_pred, y_true)\n",
    "\n",
    "\n",
    "if __name__ == \"__main__\":\n",
    "    models_path = sys.argv[-1]\n",
    "\n",
    "    test_ds = image_dataset_from_directory(\n",
    "        TEST_DATASET_PATH,\n",
    "        labels=\"inferred\",\n",
    "        label_mode=\"categorical\",\n",
    "        image_size=IMAGE_SIZE,\n",
    "        color_mode=\"grayscale\",\n",
    "        shuffle=False,\n",
    "    ).prefetch(buffer_size=AUTOTUNE)\n",
    "\n",
    "    y_true = []\n",
    "    test_images = [image for image, _ in test_ds]\n",
    "    test_images = tf.concat(test_images, axis=0)\n",
    "\n",
    "    for images, labels in test_ds:\n",
    "        y_true.extend(np.argmax(labels.numpy(), axis=1))\n",
    "\n",
    "    test_models_in_dir(models_path, test_images, y_true)"
   ]
  }
 ],
 "metadata": {
  "language_info": {
   "name": "python"
  }
 },
 "nbformat": 4,
 "nbformat_minor": 2
}
